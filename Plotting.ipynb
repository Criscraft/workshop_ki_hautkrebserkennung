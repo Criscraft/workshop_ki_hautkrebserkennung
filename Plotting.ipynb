{
 "cells": [
  {
   "cell_type": "markdown",
   "metadata": {},
   "source": [
    "# Darstellung der Trainingskurven\n",
    "\n",
    "Nutzen Sie dieses Notebook, um den mittleren Fehler und die mittlere Genauigkeit Ihres Netzwerkes während des Trainings zu verfolgen."
   ]
  },
  {
   "cell_type": "code",
   "execution_count": null,
   "metadata": {},
   "outputs": [],
   "source": [
    "\"\"\"\n",
    "Dieser Code kopiert und importiert notwendige Dateien in die virtuelle Maschine von Colab.\n",
    "\"\"\"\n",
    "import sys, os\n",
    "if 'google.colab' in sys.modules:\n",
    "  if os.getcwd() == '/content':\n",
    "    !git clone 'https://github.com/Criscraft/workshop_ki_hautkrebserkennung.git'\n",
    "    os.chdir('workshop_ki_hautkrebserkennung')"
   ]
  },
  {
   "cell_type": "code",
   "execution_count": null,
   "metadata": {},
   "outputs": [],
   "source": [
    "# Importe\n",
    "%matplotlib notebook\n",
    "import matplotlib.pyplot as plt\n",
    "import utils\n",
    "\n",
    "# Konstanten\n",
    "TRAIN_LOG_PATH = 'train_log.dat'\n",
    "TEST_LOG_PATH = 'test_log.dat'"
   ]
  },
  {
   "cell_type": "code",
   "execution_count": null,
   "metadata": {},
   "outputs": [],
   "source": [
    "# Plotten des mittleren Fehlers\n",
    "utils.plot_loss(TRAIN_LOG_PATH, TEST_LOG_PATH)\n",
    "# Plotten der mittleren Genauigkeit\n",
    "utils.plot_accuracy(TRAIN_LOG_PATH, TEST_LOG_PATH)"
   ]
  },
  {
   "cell_type": "code",
   "execution_count": null,
   "metadata": {},
   "outputs": [],
   "source": []
  }
 ],
 "metadata": {
  "kernelspec": {
   "display_name": "Python 3",
   "language": "python",
   "name": "python3"
  },
  "language_info": {
   "codemirror_mode": {
    "name": "ipython",
    "version": 3
   },
   "file_extension": ".py",
   "mimetype": "text/x-python",
   "name": "python",
   "nbconvert_exporter": "python",
   "pygments_lexer": "ipython3",
   "version": "3.8.5"
  }
 },
 "nbformat": 4,
 "nbformat_minor": 2
}
