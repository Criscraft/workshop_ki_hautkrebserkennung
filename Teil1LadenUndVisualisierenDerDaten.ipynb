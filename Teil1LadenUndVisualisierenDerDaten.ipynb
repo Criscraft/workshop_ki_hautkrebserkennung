{
 "cells": [
  {
   "cell_type": "markdown",
   "metadata": {},
   "source": [
    "# Teil 1: Laden und Visualisierung der Daten\n",
    "Der erste Praxisteil beschäftigt sich mit den Daten für das spätere Training. Hier lernen Sie, wie Sie sich mit den Bildern vertraut machen, sie laden, anzeigen und normalisieren. Dabei haben Sie die Gelegenheit, die von Pytorch bereitgestellten Werkzeuge dataset, transformations und dataloader zu kennenzulernen."
   ]
  },
  {
   "cell_type": "code",
   "execution_count": null,
   "metadata": {},
   "outputs": [],
   "source": [
    "\"\"\"\n",
    "Dieser Code kopiert und importiert notwendige Dateien in die virtuelle Maschine von Colab.\n",
    "\"\"\"\n",
    "import sys, os\n",
    "if 'google.colab' in sys.modules:\n",
    "  if os.getcwd() == '/content':\n",
    "    !git clone 'https://github.com/Criscraft/workshop_ki_hautkrebserkennung.git'\n",
    "    os.chdir('workshop_ki_hautkrebserkennung')"
   ]
  },
  {
   "cell_type": "code",
   "execution_count": null,
   "metadata": {},
   "outputs": [],
   "source": [
    "from torchvision.datasets import ImageFolder\n",
    "import torchvision.transforms as transforms\n",
    "import sys\n",
    "import torch\n",
    "import matplotlib.pyplot as plt\n",
    "import utils\n",
    "import numpy as np\n",
    "%matplotlib notebook\n",
    "\n",
    "# TODO: Geben Sie das Verzeichnis an, in dem sich der Datensatz befindet\n",
    "DATA = 'data/test/'"
   ]
  },
  {
   "cell_type": "markdown",
   "metadata": {},
   "source": [
    "## 1. Laden der Daten mittels der ImageFolder Klasse\n",
    "Erstellen Sie eine Instanz der Klasse ```ImageFolder``` Geben Sie dabei das Verzeichnis ```DATA``` als Speicherort der Daten an.\n",
    "\n",
    "Die ImageFolder Klasse bietet die Möglichkeit, bequem einzelne Datenpunkte zu laden. Außerdem wendet sie eine von Ihnen gewählte Transformation auf jedes Bild an. Damit lässt sich ein Datenpunkt z.B. normalisieren, andersweitig vorverarbeiten oder augmentieren. Wir wenden die Transformation ``` transforms.ToTensor() ``` an, um die Bilder in Pytorch Tensoren umzuwandeln, mit denen die GPU rechnen kann."
   ]
  },
  {
   "cell_type": "code",
   "execution_count": null,
   "metadata": {},
   "outputs": [],
   "source": [
    "# Laden der Daten\n",
    "# Erstellen Sie eine Transformation zur Umwandlung in einen Pytorch Tensor\n",
    "transform_to_tensor = transforms.ToTensor()\n",
    "# Erstellen Sie zwei datasets trainset und testset\n",
    "dataset = ImageFolder(DATA, transform=transform_to_tensor)\n",
    "# Bezeichnungen der Klassen\n",
    "label_names = ('mel', 'nv')"
   ]
  },
  {
   "cell_type": "markdown",
   "metadata": {},
   "source": [
    "## Aufgabe\n",
    "\n",
    "- Wie viele Bilder sind in dem Trainings- und Testdatensatz enthalten?\n",
    "- Geben Sie die Größe eines Bildes aus (shape).\n",
    "- Geben Sie einige Bildlabel aus. Wie sind die Label kodiert?\n",
    "- Wie viele Klassen enthält jeder Datensatz? Wie viele Bilder pro Klasse?"
   ]
  },
  {
   "cell_type": "code",
   "execution_count": null,
   "metadata": {},
   "outputs": [],
   "source": [
    "# TODO: Machen Sie sich mit dem Datensatz vertraut.\n"
   ]
  },
  {
   "cell_type": "markdown",
   "metadata": {},
   "source": [
    "## 2. Plotten der Bilder\n",
    "Nun wollen wir uns einige der Trainingsbilder anzeigen lassen, um einen Eindruck über die Daten zu gewinnen. Nutzen Sie dafür die Bibliothek matplotlib. Wenn Sie fertig sind, sollte Ihr Code folgendes leisten:\n",
    "\n",
    "1. Einen Plot mit 4x4 Kacheln erstellen.\n",
    "2. Wählen Sie in der for-Schleife ein Bild aus dem Datensatz aus und transformieren Sie es zu einem PIL Bild. Für die Transformation erstellen Sie zuerst ein Transformationsobjekt mit ```transforms.ToPILImage()``` und verwenden Sie dieses Objekt anschließend wie eine Funktion, die Ihnen einen transformierten Datenpunkt zurückgibt. \n",
    "3. In der Schleife legen Sie den Titel der Kachel mit dem Label fest.\n",
    "4. Stellen Sie sicher, dass Matplotlib kein Koordinatengitter einfügt und plotten Sie das PIL Bild mit der Methode.\n",
    "\n",
    "Folgende Funktionen könnten für Sie interessant sein: plt.subplots, transforms.ToPILImage(), ax.set_title, plt.axis('off'), ax.imshow"
   ]
  },
  {
   "cell_type": "code",
   "execution_count": null,
   "metadata": {
    "scrolled": true
   },
   "outputs": [],
   "source": [
    "# Erstellen Sie eine Transformation, die einen Bildtensor in einem PIL Bild überführt\n",
    "transform_tensor_to_pil = transforms.ToPILImage()\n",
    "\n",
    "fig, _ = plt.subplots(4, 4, figsize=(9, 9))\n",
    "\n",
    "for i in range(16):\n",
    "    # Auswahl der zu bearbeitenden Kachel\n",
    "    ax = plt.subplot(4, 4, i+1)\n",
    "    # Plotten Sie das i-te Bild im dataset mit dem Label als Titel\n",
    "    ax.set_title(\"label \" + str(dataset[i][1]) + \" (\" + label_names[dataset[i][1]] + \")\" )\n",
    "    print_image = transform_tensor_to_pil(dataset[i][0])\n",
    "    ax.imshow(print_image)\n",
    "    plt.axis('off')"
   ]
  },
  {
   "cell_type": "markdown",
   "metadata": {},
   "source": [
    "## Aufgabe\n",
    "\n",
    "- Wie gut eignen sich die Bilder für automatisierte Bilderkennung?\n",
    "- Benötigt man lokale oder globale Merkmale für die Klassifikation?\n",
    "- Wie sollte man die Bilder am besten vorverarbeiten?"
   ]
  },
  {
   "cell_type": "markdown",
   "metadata": {},
   "source": [
    "## 3. Die Dataloader Klasse\n",
    "\n",
    "Nun wollen wir die Klasse ```torch.utils.data.DataLoader``` kennenlernen und das Plotten damit wiederholen. Mit einem Dataloader lässt sich das Laden der Bilder und das Verpacken zu Minibatches automatisieren. Minibatches sind Pakete aus mehreren Trainingsbildern, die wir auf der Grafikkarte verarbeiten wollen. Das ist schneller, als die Bilder einzelnd zup Training zu verwenden. Somit kann man die Bilder mithilfe der CPU laden und vorverarbeiten, während das eigentliche Training zeitgleich auf der GPU durchgeführt wird. Um den Umgang mit dem Dataloader zu üben, erstellen wir einen Dataloader, extrahieren den ersten Minibatch und stellen ihn wieder in einem 4x4 Layout dar. Ihr Code sollte\n",
    "\n",
    "1. Einen Dataloader mit dem Trainingsdatensatz und einer Batchgröße von 16 erstellen\n",
    "2. Den ersten Batch extrahieren (Tipp: ```batch = next(iter(loader))```.\n",
    "3. Die Bilder und die Labels trennen (Tipp: was befindet sich in ```batch[0]``` und ```batch[1]```?)\n",
    "4. Wie zuvor in einer for-Schleife die Bilder anzeigen. Sie müssen vor dem Anzeigen eines Bildes, den Bildtensor mit einer Transformation ```transforms.ToPILImage()``` in ein anzeigbares Bild umwandeln.\n"
   ]
  },
  {
   "cell_type": "code",
   "execution_count": null,
   "metadata": {},
   "outputs": [],
   "source": [
    "# Erstellen Sie einen Dataloader mit Batchsize 16\n",
    "loader = torch.utils.data.DataLoader(dataset, batch_size=16, shuffle=True)\n",
    "# Erstellen Sie eine Transformation, die einen Bildtensor in einem PIL Bild überführt\n",
    "transform_tensor_to_pil = transforms.ToPILImage()\n",
    "\n",
    "fig, _ = plt.subplots(4, 4, figsize=(9, 9))\n",
    "\n",
    "# Extrahieren Sie den ersten Minibatch aus dem Dataloader\n",
    "batch = next(iter(loader))\n",
    "# Trennen Sie die Bilddaten von ihren Labels\n",
    "images = batch[0]\n",
    "targets = batch[1]\n",
    "\n",
    "# Plotten Sie die 16 Bilder\n",
    "for i in range(16):\n",
    "    # Auswahl der zu bearbeitenden Kachel\n",
    "    ax = plt.subplot(4, 4, i+1)\n",
    "    ax.set_title(\"label \" + str(int(targets[i])) + \" (\" + label_names[targets[i]] + \")\" )\n",
    "    print_image = transform_tensor_to_pil(images[i])\n",
    "    ax.imshow(print_image)\n",
    "    plt.axis('off')"
   ]
  },
  {
   "cell_type": "markdown",
   "metadata": {},
   "source": [
    "## Aufgabe\n",
    "\n",
    "- Wie viele Batches besitzt der Dataloader?\n",
    "- Wie ist ein Batch aufgebaut und wie groß ist ein Batch?\n",
    "- Warum werden nicht dieselben Bilder angezeigt wie bei der Zelle davor?"
   ]
  },
  {
   "cell_type": "code",
   "execution_count": null,
   "metadata": {},
   "outputs": [],
   "source": [
    "# TODO: Machen Sie sich mit dem Dataloader vertraut\n",
    "\n"
   ]
  },
  {
   "cell_type": "markdown",
   "metadata": {},
   "source": [
    "## 4. Augmentieren Sie Ihre Bilder\n",
    "\n",
    "Wenn Sie nicht genügend gelabelte Daten zur Verfügung haben, kann es sein, dass Ihr neuronales Netz die Trainingsbilder schlicht auswendig lernt. Um das zu verhindern, können wir die Menge an Bildern künstlich erhöhen. Hier werden wir die Bilder augmentieren. Hierfür werden wir eine Transformation erstellen, die weißes Rauschen über die Bilder legt. Anschließend lassen wir uns die augmentierten Bilder anzeigen.\n",
    "\n",
    "1. Erstellen Sie die Transformationen ```utils.AddGaussianNoise(blend_alpha_range=(0., 0.4))``` und ```transforms.ToTensor()``` und fassen Sie sie mittels ```transforms.Compose``` zu einer Transformation zusammen.\n",
    "2. Erstellen Sie erneut ein dataset mit dieser Transformation.\n",
    "3. Erstellen Sie wie in der oberen Zelle einen dataloader und plotten Sie 16 augmentierte Bilder."
   ]
  },
  {
   "cell_type": "code",
   "execution_count": null,
   "metadata": {
    "scrolled": false
   },
   "outputs": [],
   "source": [
    "# Erstellen Sie eine Transformation, die erst Weißes Rauschen dem Bild hinzufügt und anschließend das Bild in einen Tensor überführt.\n",
    "transformations = transforms.Compose([\n",
    "    transforms.Resize((128,128)),\n",
    "    utils.AddGaussianNoise(blend_alpha_range=(0.6, 0.6)),\n",
    "    transforms.ToTensor(),\n",
    "    ])\n",
    "# Erstellen Sie ein neues dataset mit der neuen Transformation\n",
    "dataset = ImageFolder(DATA, transform=transformations)\n",
    "\n",
    "# Erstellen Sie einen dataloader und plotten Sie wie zuvor 16 Bilder.\n",
    "loader = torch.utils.data.DataLoader(dataset, batch_size=16, shuffle=True)\n",
    "transform_tensor_to_pil = transforms.ToPILImage()\n",
    "fig, _ = plt.subplots(4, 4, figsize=(9, 9))\n",
    "\n",
    "batch = next(iter(loader))\n",
    "images = batch[0]\n",
    "targets = batch[1]\n",
    "\n",
    "for i in range(16):\n",
    "    # Auswahl der zu bearbeitenden Kachel\n",
    "    ax = plt.subplot(4, 4, i+1)\n",
    "    ax.set_title(\"label \" + str(int(targets[i])) + \" (\" + label_names[targets[i]] + \")\" )\n",
    "    print_image = transform_tensor_to_pil(images[i])\n",
    "    ax.imshow(print_image)\n",
    "    plt.axis('off')"
   ]
  },
  {
   "cell_type": "markdown",
   "metadata": {},
   "source": [
    "## Aufgabe\n",
    "\n",
    "- Variieren Sie die blend_alpha_range und sehen Sie den Effekt auf das Rauschen. \n",
    "- Wie stark können können Sie das Rauschen erhöhen bis Sie die Klassen nicht mehr zuverlässig erkennen?\n",
    "- Was für andere Arten der Augmentierung fallen Ihnen ein?\n",
    "- Wie klein können Sie die Bilder skalieren, um die Klassen mit oder ohne Verrauschen noch erkennen zu können? Das ist eine wichtige Überlegung, um später Rechenzeit einzusparen."
   ]
  },
  {
   "cell_type": "markdown",
   "metadata": {},
   "source": [
    "## 5. Normalisierung der Bilder\n",
    "\n",
    "Sie sind nun in der Lage, Bilder zu laden, sie zu transformieren und sie mit einem Dataloader in Minibatches zu packen. Was noch fehlt, bevor Sie sich auf das Training stürzen können, ist die Normalisierung der Daten. Berechnen Sie den Wert des mittleren Pixels der Daten (das ist eine Zahl für jeweils rot, grün und blau) und dessen Standardabweichung (ebenfalls drei Zahlen). Später werden wir diese Werte verwenden, um die Bilder von ihrem Mittelwert zu bereinigen und ihre Varianz zu normalisieren. Ihr fertiger Code sollte durch das dataset iterieren und Mittelwert, sowie Standardabweichung berechnen. Hierfür steht Ihnen Welford's Onlinealgorithmus bereit. Nutzen Sie die Funktionen ```utils.update_mean_std``` und ```utils.finalize_mean_std```, um den Mittelwert und die Standardabweichung schrittweise zu erhalten. "
   ]
  },
  {
   "cell_type": "code",
   "execution_count": null,
   "metadata": {},
   "outputs": [],
   "source": [
    "transformations = transforms.Compose([\n",
    "    transforms.Resize((128,128)),\n",
    "    transforms.ToTensor(),\n",
    "    ])\n",
    "dataset = ImageFolder(DATA, transform=transformations)\n",
    "\n",
    "aggregate = (0., 0., 0.)\n",
    "\n",
    "for i in range(len(dataset)):\n",
    "    #Lassen Sie sich das i-te Bild aus dem dataset geben\n",
    "    #Wandeln Sie es in ein ndarray um\n",
    "    #Berechnen Sie das mittlere Pixel dieses Bildes.\n",
    "    image = dataset[i][0].numpy().mean(axis=(1,2))\n",
    "    #Aktualisieren Sie den laufenden Mittelwert und die Standardabweichung des mittleren Pixels mit utils.update_mean_std\n",
    "    aggregate = utils.update_mean_std(aggregate, image)\n",
    "\n",
    "#Bestimmen Sie den mittleren Pixel und seine Standardabweichung.\n",
    "image_means, image_stds, _ = utils.finalize_mean_std(aggregate)\n",
    "\n",
    "print('image mean:')\n",
    "print(image_means)\n",
    "\n",
    "print('image std:')\n",
    "print(image_stds)"
   ]
  },
  {
   "cell_type": "markdown",
   "metadata": {},
   "source": [
    "## Aufgabe\n",
    "\n",
    "- Was sagen image_mean und image_std aus?\n",
    "- Wie würden Sie vorgehen, um ein Bild zu normalisieren?"
   ]
  }
 ],
 "metadata": {
  "kernelspec": {
   "display_name": "Python 3",
   "language": "python",
   "name": "python3"
  },
  "language_info": {
   "codemirror_mode": {
    "name": "ipython",
    "version": 3
   },
   "file_extension": ".py",
   "mimetype": "text/x-python",
   "name": "python",
   "nbconvert_exporter": "python",
   "pygments_lexer": "ipython3",
   "version": "3.8.5"
  }
 },
 "nbformat": 4,
 "nbformat_minor": 2
}
